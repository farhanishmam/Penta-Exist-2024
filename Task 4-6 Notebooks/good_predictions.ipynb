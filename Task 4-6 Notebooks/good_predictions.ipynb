{
 "cells": [
  {
   "cell_type": "code",
   "execution_count": 82,
   "metadata": {},
   "outputs": [],
   "source": [
    "import pandas as pd\n",
    "from scipy.spatial.distance import cosine"
   ]
  },
  {
   "cell_type": "code",
   "execution_count": 83,
   "metadata": {},
   "outputs": [],
   "source": [
    "task = 6\n",
    "model = 'dandelin-vilt-b32-mlm-mattn_score_0.8486'"
   ]
  },
  {
   "cell_type": "code",
   "execution_count": 84,
   "metadata": {},
   "outputs": [],
   "source": [
    "gold_df = pd.read_json(f'task{task}_val_soft_gold.json')[['id', 'value']]\n",
    "pred_df = pd.read_json(f'Task {task} Results/{model}_val_soft.json')[['id', 'value']]"
   ]
  },
  {
   "cell_type": "code",
   "execution_count": 85,
   "metadata": {},
   "outputs": [
    {
     "data": {
      "text/html": [
       "<div>\n",
       "<style scoped>\n",
       "    .dataframe tbody tr th:only-of-type {\n",
       "        vertical-align: middle;\n",
       "    }\n",
       "\n",
       "    .dataframe tbody tr th {\n",
       "        vertical-align: top;\n",
       "    }\n",
       "\n",
       "    .dataframe thead th {\n",
       "        text-align: right;\n",
       "    }\n",
       "</style>\n",
       "<table border=\"1\" class=\"dataframe\">\n",
       "  <thead>\n",
       "    <tr style=\"text-align: right;\">\n",
       "      <th></th>\n",
       "      <th>id</th>\n",
       "      <th>value_x</th>\n",
       "      <th>value_y</th>\n",
       "    </tr>\n",
       "  </thead>\n",
       "  <tbody>\n",
       "    <tr>\n",
       "      <th>0</th>\n",
       "      <td>210005</td>\n",
       "      <td>{'IDEOLOGICAL-INEQUALITY': 1.20756377119946e-1...</td>\n",
       "      <td>{'NO': 0.8333333333, 'IDEOLOGICAL-INEQUALITY':...</td>\n",
       "    </tr>\n",
       "    <tr>\n",
       "      <th>1</th>\n",
       "      <td>210008</td>\n",
       "      <td>{'IDEOLOGICAL-INEQUALITY': 0.01315187662839800...</td>\n",
       "      <td>{'OBJECTIFICATION': 0.5, 'IDEOLOGICAL-INEQUALI...</td>\n",
       "    </tr>\n",
       "    <tr>\n",
       "      <th>2</th>\n",
       "      <td>210014</td>\n",
       "      <td>{'IDEOLOGICAL-INEQUALITY': 0.000302606786135, ...</td>\n",
       "      <td>{'NO': 0.1666666667, 'IDEOLOGICAL-INEQUALITY':...</td>\n",
       "    </tr>\n",
       "    <tr>\n",
       "      <th>3</th>\n",
       "      <td>210016</td>\n",
       "      <td>{'IDEOLOGICAL-INEQUALITY': 0.9977498650550841,...</td>\n",
       "      <td>{'NO': 0.1666666667, 'MISOGYNY-NON-SEXUAL-VIOL...</td>\n",
       "    </tr>\n",
       "    <tr>\n",
       "      <th>4</th>\n",
       "      <td>210023</td>\n",
       "      <td>{'IDEOLOGICAL-INEQUALITY': 0.9448103308677671,...</td>\n",
       "      <td>{'STEREOTYPING-DOMINANCE': 0.5, 'IDEOLOGICAL-I...</td>\n",
       "    </tr>\n",
       "    <tr>\n",
       "      <th>...</th>\n",
       "      <td>...</td>\n",
       "      <td>...</td>\n",
       "      <td>...</td>\n",
       "    </tr>\n",
       "    <tr>\n",
       "      <th>417</th>\n",
       "      <td>211982</td>\n",
       "      <td>{'IDEOLOGICAL-INEQUALITY': 4.766206873618728e-...</td>\n",
       "      <td>{'NO': 1.0, 'IDEOLOGICAL-INEQUALITY': 0.0, 'ST...</td>\n",
       "    </tr>\n",
       "    <tr>\n",
       "      <th>418</th>\n",
       "      <td>211993</td>\n",
       "      <td>{'IDEOLOGICAL-INEQUALITY': 0.07358453422784801...</td>\n",
       "      <td>{'NO': 0.8333333333, 'STEREOTYPING-DOMINANCE':...</td>\n",
       "    </tr>\n",
       "    <tr>\n",
       "      <th>419</th>\n",
       "      <td>211994</td>\n",
       "      <td>{'IDEOLOGICAL-INEQUALITY': 4.391968832351268e-...</td>\n",
       "      <td>{'IDEOLOGICAL-INEQUALITY': 0.1666666667, 'NO':...</td>\n",
       "    </tr>\n",
       "    <tr>\n",
       "      <th>420</th>\n",
       "      <td>211995</td>\n",
       "      <td>{'IDEOLOGICAL-INEQUALITY': 1.973896779361439e-...</td>\n",
       "      <td>{'NO': 0.8333333333, 'IDEOLOGICAL-INEQUALITY':...</td>\n",
       "    </tr>\n",
       "    <tr>\n",
       "      <th>421</th>\n",
       "      <td>211999</td>\n",
       "      <td>{'IDEOLOGICAL-INEQUALITY': 0.084082096815109, ...</td>\n",
       "      <td>{'IDEOLOGICAL-INEQUALITY': 0.6666666667000001,...</td>\n",
       "    </tr>\n",
       "  </tbody>\n",
       "</table>\n",
       "<p>422 rows × 3 columns</p>\n",
       "</div>"
      ],
      "text/plain": [
       "         id                                            value_x  \\\n",
       "0    210005  {'IDEOLOGICAL-INEQUALITY': 1.20756377119946e-1...   \n",
       "1    210008  {'IDEOLOGICAL-INEQUALITY': 0.01315187662839800...   \n",
       "2    210014  {'IDEOLOGICAL-INEQUALITY': 0.000302606786135, ...   \n",
       "3    210016  {'IDEOLOGICAL-INEQUALITY': 0.9977498650550841,...   \n",
       "4    210023  {'IDEOLOGICAL-INEQUALITY': 0.9448103308677671,...   \n",
       "..      ...                                                ...   \n",
       "417  211982  {'IDEOLOGICAL-INEQUALITY': 4.766206873618728e-...   \n",
       "418  211993  {'IDEOLOGICAL-INEQUALITY': 0.07358453422784801...   \n",
       "419  211994  {'IDEOLOGICAL-INEQUALITY': 4.391968832351268e-...   \n",
       "420  211995  {'IDEOLOGICAL-INEQUALITY': 1.973896779361439e-...   \n",
       "421  211999  {'IDEOLOGICAL-INEQUALITY': 0.084082096815109, ...   \n",
       "\n",
       "                                               value_y  \n",
       "0    {'NO': 0.8333333333, 'IDEOLOGICAL-INEQUALITY':...  \n",
       "1    {'OBJECTIFICATION': 0.5, 'IDEOLOGICAL-INEQUALI...  \n",
       "2    {'NO': 0.1666666667, 'IDEOLOGICAL-INEQUALITY':...  \n",
       "3    {'NO': 0.1666666667, 'MISOGYNY-NON-SEXUAL-VIOL...  \n",
       "4    {'STEREOTYPING-DOMINANCE': 0.5, 'IDEOLOGICAL-I...  \n",
       "..                                                 ...  \n",
       "417  {'NO': 1.0, 'IDEOLOGICAL-INEQUALITY': 0.0, 'ST...  \n",
       "418  {'NO': 0.8333333333, 'STEREOTYPING-DOMINANCE':...  \n",
       "419  {'IDEOLOGICAL-INEQUALITY': 0.1666666667, 'NO':...  \n",
       "420  {'NO': 0.8333333333, 'IDEOLOGICAL-INEQUALITY':...  \n",
       "421  {'IDEOLOGICAL-INEQUALITY': 0.6666666667000001,...  \n",
       "\n",
       "[422 rows x 3 columns]"
      ]
     },
     "execution_count": 85,
     "metadata": {},
     "output_type": "execute_result"
    }
   ],
   "source": [
    "merged = pd.merge(pred_df, gold_df, how='inner', on='id')\n",
    "# merged = merged[merged['id'] < 200000].reset_index(drop=True)\n",
    "merged = merged[merged['id'] >= 200000].reset_index(drop=True)\n",
    "merged"
   ]
  },
  {
   "cell_type": "code",
   "execution_count": 86,
   "metadata": {},
   "outputs": [],
   "source": [
    "def dict_to_vector(d, keys):\n",
    "    return [d.get(key, 0) for key in keys]"
   ]
  },
  {
   "cell_type": "code",
   "execution_count": 87,
   "metadata": {},
   "outputs": [],
   "source": [
    "keys = set()\n",
    "for d in merged['value_x']:\n",
    "    keys.update(d.keys())\n",
    "for d in merged['value_y']:\n",
    "    keys.update(d.keys())\n",
    "keys = list(keys)"
   ]
  },
  {
   "cell_type": "code",
   "execution_count": 88,
   "metadata": {},
   "outputs": [
    {
     "name": "stdout",
     "output_type": "stream",
     "text": [
      "Most Similar Sample:\n",
      "id                                                       210815\n",
      "value_x       {'IDEOLOGICAL-INEQUALITY': 3.057666786432378e-...\n",
      "value_y       {'NO': 1.0, 'IDEOLOGICAL-INEQUALITY': 0.0, 'ST...\n",
      "vector_x      [3.057666786432378e-09, 1.3841078505549831e-08...\n",
      "vector_y                         [0.0, 0.0, 1.0, 0.0, 0.0, 0.0]\n",
      "similarity                                                  1.0\n",
      "Name: 153, dtype: object\n",
      "\n",
      "Most Dissimilar Sample:\n",
      "id                                                       210355\n",
      "value_x       {'IDEOLOGICAL-INEQUALITY': 1.5460884696949502e...\n",
      "value_y       {'NO': 1.0, 'IDEOLOGICAL-INEQUALITY': 0.0, 'ST...\n",
      "vector_x      [1.5460884696949502e-06, 0.053245760500431005,...\n",
      "vector_y                         [0.0, 0.0, 1.0, 0.0, 0.0, 0.0]\n",
      "similarity                                                  0.0\n",
      "Name: 64, dtype: object\n"
     ]
    }
   ],
   "source": [
    "# Convert value_x and value_y to vectors\n",
    "merged['vector_x'] = merged['value_x'].apply(lambda x: dict_to_vector(x, keys))\n",
    "merged['vector_y'] = merged['value_y'].apply(lambda y: dict_to_vector(y, keys))\n",
    "\n",
    "# Calculate cosine similarity\n",
    "similarities = []\n",
    "for i, row in merged.iterrows():\n",
    "    similarity = 1 - cosine(row['vector_x'], row['vector_y'])  # Cosine similarity\n",
    "    similarities.append(similarity)\n",
    "\n",
    "merged['similarity'] = similarities\n",
    "\n",
    "# Find the most similar and most dissimilar samples\n",
    "most_similar = merged.iloc[merged['similarity'].idxmax()]\n",
    "most_dissimilar = merged.iloc[merged['similarity'].idxmin()]\n",
    "\n",
    "print(\"Most Similar Sample:\")\n",
    "print(most_similar)\n",
    "\n",
    "print(\"\\nMost Dissimilar Sample:\")\n",
    "print(most_dissimilar)"
   ]
  },
  {
   "cell_type": "code",
   "execution_count": null,
   "metadata": {},
   "outputs": [],
   "source": []
  }
 ],
 "metadata": {
  "kernelspec": {
   "display_name": "base",
   "language": "python",
   "name": "python3"
  },
  "language_info": {
   "codemirror_mode": {
    "name": "ipython",
    "version": 3
   },
   "file_extension": ".py",
   "mimetype": "text/x-python",
   "name": "python",
   "nbconvert_exporter": "python",
   "pygments_lexer": "ipython3",
   "version": "3.12.2"
  }
 },
 "nbformat": 4,
 "nbformat_minor": 2
}
