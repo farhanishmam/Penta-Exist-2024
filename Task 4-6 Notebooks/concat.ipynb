{
 "cells": [
  {
   "cell_type": "code",
   "execution_count": 1,
   "metadata": {},
   "outputs": [
    {
     "name": "stderr",
     "output_type": "stream",
     "text": [
      "c:\\Users\\pachinkomachine\\AppData\\Local\\Programs\\Python\\Python311\\Lib\\site-packages\\tqdm\\auto.py:21: TqdmWarning: IProgress not found. Please update jupyter and ipywidgets. See https://ipywidgets.readthedocs.io/en/stable/user_install.html\n",
      "  from .autonotebook import tqdm as notebook_tqdm\n"
     ]
    }
   ],
   "source": [
    "import torch\n",
    "import torch.nn as nn\n",
    "from torch.utils.data import Dataset, DataLoader\n",
    "from torchvision.transforms import Resize\n",
    "from torchvision.io import read_image, ImageReadMode\n",
    "from vit_pytorch import ViT\n",
    "from vit_pytorch.extractor import Extractor\n",
    "import json\n",
    "import pandas as pd\n",
    "import random\n",
    "from collections import Counter\n",
    "from pathlib import Path\n",
    "import cv2\n",
    "import numpy as np\n",
    "import transformers as hf\n",
    "from tqdm.auto import tqdm"
   ]
  },
  {
   "cell_type": "code",
   "execution_count": 2,
   "metadata": {},
   "outputs": [],
   "source": [
    "GLOBAL_DEVICE = 'cuda' if torch.cuda.is_available() else 'cpu'\n",
    "base_path = Path('EXIST 2024 Lab/EXIST 2024 Memes Dataset/training/memes')"
   ]
  },
  {
   "cell_type": "code",
   "execution_count": 3,
   "metadata": {},
   "outputs": [
    {
     "data": {
      "text/html": [
       "<div>\n",
       "<style scoped>\n",
       "    .dataframe tbody tr th:only-of-type {\n",
       "        vertical-align: middle;\n",
       "    }\n",
       "\n",
       "    .dataframe tbody tr th {\n",
       "        vertical-align: top;\n",
       "    }\n",
       "\n",
       "    .dataframe thead th {\n",
       "        text-align: right;\n",
       "    }\n",
       "</style>\n",
       "<table border=\"1\" class=\"dataframe\">\n",
       "  <thead>\n",
       "    <tr style=\"text-align: right;\">\n",
       "      <th></th>\n",
       "      <th>id_EXIST</th>\n",
       "      <th>lang</th>\n",
       "      <th>text</th>\n",
       "      <th>meme</th>\n",
       "      <th>path_memes</th>\n",
       "      <th>number_annotators</th>\n",
       "      <th>annotators</th>\n",
       "      <th>gender_annotators</th>\n",
       "      <th>age_annotators</th>\n",
       "      <th>ethnicities_annotators</th>\n",
       "      <th>study_levels_annotators</th>\n",
       "      <th>countries_annotators</th>\n",
       "      <th>labels_task4</th>\n",
       "      <th>labels_task5</th>\n",
       "      <th>labels_task6</th>\n",
       "      <th>split</th>\n",
       "    </tr>\n",
       "  </thead>\n",
       "  <tbody>\n",
       "    <tr>\n",
       "      <th>210916</th>\n",
       "      <td>210916</td>\n",
       "      <td>en</td>\n",
       "      <td>A FEMINIST ON THE INTERNET SAID I WAS MANSPLAI...</td>\n",
       "      <td>210916.jpeg</td>\n",
       "      <td>memes/210916.jpeg</td>\n",
       "      <td>6</td>\n",
       "      <td>[Annotator_644, Annotator_645, Annotator_646, ...</td>\n",
       "      <td>[F, F, F, M, M, M]</td>\n",
       "      <td>[18-22, 23-45, 46+, 18-22, 23-45, 46+]</td>\n",
       "      <td>[White or Caucasian, White or Caucasian, White...</td>\n",
       "      <td>[High school degree or equivalent, Bachelor’s ...</td>\n",
       "      <td>[Italy, Poland, United States, Portugal, Slove...</td>\n",
       "      <td>[YES, YES, YES, YES, NO, YES]</td>\n",
       "      <td>[DIRECT, DIRECT, JUDGEMENTAL, JUDGEMENTAL, -, ...</td>\n",
       "      <td>[[IDEOLOGICAL-INEQUALITY, STEREOTYPING-DOMINAN...</td>\n",
       "      <td>TRAIN-MEME_EN</td>\n",
       "    </tr>\n",
       "    <tr>\n",
       "      <th>211858</th>\n",
       "      <td>211858</td>\n",
       "      <td>en</td>\n",
       "      <td>RIHANNA? COCKSUCKER WHORE makeameme.org</td>\n",
       "      <td>211858.jpeg</td>\n",
       "      <td>memes/211858.jpeg</td>\n",
       "      <td>6</td>\n",
       "      <td>[Annotator_847, Annotator_848, Annotator_849, ...</td>\n",
       "      <td>[F, F, F, M, M, M]</td>\n",
       "      <td>[18-22, 23-45, 46+, 18-22, 23-45, 46+]</td>\n",
       "      <td>[Middle Eastern, Black or African American, Wh...</td>\n",
       "      <td>[High school degree or equivalent, Bachelor’s ...</td>\n",
       "      <td>[South Africa, South Africa, United Kingdom, F...</td>\n",
       "      <td>[YES, YES, YES, YES, YES, YES]</td>\n",
       "      <td>[DIRECT, DIRECT, DIRECT, DIRECT, DIRECT, DIRECT]</td>\n",
       "      <td>[[MISOGYNY-NON-SEXUAL-VIOLENCE], [IDEOLOGICAL-...</td>\n",
       "      <td>TRAIN-MEME_EN</td>\n",
       "    </tr>\n",
       "    <tr>\n",
       "      <th>210133</th>\n",
       "      <td>210133</td>\n",
       "      <td>en</td>\n",
       "      <td>What advice do the Mario bros have for dealing...</td>\n",
       "      <td>210133.png</td>\n",
       "      <td>memes/210133.png</td>\n",
       "      <td>6</td>\n",
       "      <td>[Annotator_479, Annotator_480, Annotator_481, ...</td>\n",
       "      <td>[F, F, F, M, M, M]</td>\n",
       "      <td>[18-22, 23-45, 46+, 18-22, 23-45, 46+]</td>\n",
       "      <td>[White or Caucasian, White or Caucasian, Black...</td>\n",
       "      <td>[Bachelor’s degree, Master’s degree, High scho...</td>\n",
       "      <td>[Canada, France, United Kingdom, Hungary, Unit...</td>\n",
       "      <td>[YES, YES, NO, YES, NO, NO]</td>\n",
       "      <td>[DIRECT, JUDGEMENTAL, -, DIRECT, -, -]</td>\n",
       "      <td>[[STEREOTYPING-DOMINANCE, MISOGYNY-NON-SEXUAL-...</td>\n",
       "      <td>TRAIN-MEME_EN</td>\n",
       "    </tr>\n",
       "    <tr>\n",
       "      <th>210646</th>\n",
       "      <td>210646</td>\n",
       "      <td>en</td>\n",
       "      <td>Hey Girls, did you know that uhmm.. Can go whe...</td>\n",
       "      <td>210646.jpeg</td>\n",
       "      <td>memes/210646.jpeg</td>\n",
       "      <td>6</td>\n",
       "      <td>[Annotator_586, Annotator_587, Annotator_588, ...</td>\n",
       "      <td>[F, F, F, M, M, M]</td>\n",
       "      <td>[18-22, 23-45, 46+, 18-22, 23-45, 46+]</td>\n",
       "      <td>[Black or African American, White or Caucasian...</td>\n",
       "      <td>[other, Doctorate, Master’s degree, High schoo...</td>\n",
       "      <td>[South Africa, Portugal, United Kingdom, South...</td>\n",
       "      <td>[NO, NO, YES, NO, YES, YES]</td>\n",
       "      <td>[-, -, DIRECT, -, DIRECT, DIRECT]</td>\n",
       "      <td>[[-], [-], [OBJECTIFICATION], [-], [SEXUAL-VIO...</td>\n",
       "      <td>TRAIN-MEME_EN</td>\n",
       "    </tr>\n",
       "    <tr>\n",
       "      <th>210291</th>\n",
       "      <td>210291</td>\n",
       "      <td>en</td>\n",
       "      <td>That's right. You get in there &amp; derail that c...</td>\n",
       "      <td>210291.jpeg</td>\n",
       "      <td>memes/210291.jpeg</td>\n",
       "      <td>6</td>\n",
       "      <td>[Annotator_514, Annotator_515, Annotator_363, ...</td>\n",
       "      <td>[F, F, F, M, M, M]</td>\n",
       "      <td>[18-22, 23-45, 46+, 18-22, 23-45, 46+]</td>\n",
       "      <td>[White or Caucasian, Black or African American...</td>\n",
       "      <td>[Bachelor’s degree, Master’s degree, Master’s ...</td>\n",
       "      <td>[Portugal, Zimbabwe, Mexico, South Africa, Fin...</td>\n",
       "      <td>[NO, NO, NO, NO, YES, NO]</td>\n",
       "      <td>[-, -, -, -, DIRECT, -]</td>\n",
       "      <td>[[-], [-], [-], [-], [MISOGYNY-NON-SEXUAL-VIOL...</td>\n",
       "      <td>TRAIN-MEME_EN</td>\n",
       "    </tr>\n",
       "  </tbody>\n",
       "</table>\n",
       "</div>"
      ],
      "text/plain": [
       "       id_EXIST lang                                               text  \\\n",
       "210916   210916   en  A FEMINIST ON THE INTERNET SAID I WAS MANSPLAI...   \n",
       "211858   211858   en          RIHANNA? COCKSUCKER WHORE makeameme.org     \n",
       "210133   210133   en  What advice do the Mario bros have for dealing...   \n",
       "210646   210646   en  Hey Girls, did you know that uhmm.. Can go whe...   \n",
       "210291   210291   en  That's right. You get in there & derail that c...   \n",
       "\n",
       "               meme         path_memes number_annotators  \\\n",
       "210916  210916.jpeg  memes/210916.jpeg                 6   \n",
       "211858  211858.jpeg  memes/211858.jpeg                 6   \n",
       "210133   210133.png   memes/210133.png                 6   \n",
       "210646  210646.jpeg  memes/210646.jpeg                 6   \n",
       "210291  210291.jpeg  memes/210291.jpeg                 6   \n",
       "\n",
       "                                               annotators   gender_annotators  \\\n",
       "210916  [Annotator_644, Annotator_645, Annotator_646, ...  [F, F, F, M, M, M]   \n",
       "211858  [Annotator_847, Annotator_848, Annotator_849, ...  [F, F, F, M, M, M]   \n",
       "210133  [Annotator_479, Annotator_480, Annotator_481, ...  [F, F, F, M, M, M]   \n",
       "210646  [Annotator_586, Annotator_587, Annotator_588, ...  [F, F, F, M, M, M]   \n",
       "210291  [Annotator_514, Annotator_515, Annotator_363, ...  [F, F, F, M, M, M]   \n",
       "\n",
       "                                age_annotators  \\\n",
       "210916  [18-22, 23-45, 46+, 18-22, 23-45, 46+]   \n",
       "211858  [18-22, 23-45, 46+, 18-22, 23-45, 46+]   \n",
       "210133  [18-22, 23-45, 46+, 18-22, 23-45, 46+]   \n",
       "210646  [18-22, 23-45, 46+, 18-22, 23-45, 46+]   \n",
       "210291  [18-22, 23-45, 46+, 18-22, 23-45, 46+]   \n",
       "\n",
       "                                   ethnicities_annotators  \\\n",
       "210916  [White or Caucasian, White or Caucasian, White...   \n",
       "211858  [Middle Eastern, Black or African American, Wh...   \n",
       "210133  [White or Caucasian, White or Caucasian, Black...   \n",
       "210646  [Black or African American, White or Caucasian...   \n",
       "210291  [White or Caucasian, Black or African American...   \n",
       "\n",
       "                                  study_levels_annotators  \\\n",
       "210916  [High school degree or equivalent, Bachelor’s ...   \n",
       "211858  [High school degree or equivalent, Bachelor’s ...   \n",
       "210133  [Bachelor’s degree, Master’s degree, High scho...   \n",
       "210646  [other, Doctorate, Master’s degree, High schoo...   \n",
       "210291  [Bachelor’s degree, Master’s degree, Master’s ...   \n",
       "\n",
       "                                     countries_annotators  \\\n",
       "210916  [Italy, Poland, United States, Portugal, Slove...   \n",
       "211858  [South Africa, South Africa, United Kingdom, F...   \n",
       "210133  [Canada, France, United Kingdom, Hungary, Unit...   \n",
       "210646  [South Africa, Portugal, United Kingdom, South...   \n",
       "210291  [Portugal, Zimbabwe, Mexico, South Africa, Fin...   \n",
       "\n",
       "                          labels_task4  \\\n",
       "210916   [YES, YES, YES, YES, NO, YES]   \n",
       "211858  [YES, YES, YES, YES, YES, YES]   \n",
       "210133     [YES, YES, NO, YES, NO, NO]   \n",
       "210646     [NO, NO, YES, NO, YES, YES]   \n",
       "210291       [NO, NO, NO, NO, YES, NO]   \n",
       "\n",
       "                                             labels_task5  \\\n",
       "210916  [DIRECT, DIRECT, JUDGEMENTAL, JUDGEMENTAL, -, ...   \n",
       "211858   [DIRECT, DIRECT, DIRECT, DIRECT, DIRECT, DIRECT]   \n",
       "210133             [DIRECT, JUDGEMENTAL, -, DIRECT, -, -]   \n",
       "210646                  [-, -, DIRECT, -, DIRECT, DIRECT]   \n",
       "210291                            [-, -, -, -, DIRECT, -]   \n",
       "\n",
       "                                             labels_task6          split  \n",
       "210916  [[IDEOLOGICAL-INEQUALITY, STEREOTYPING-DOMINAN...  TRAIN-MEME_EN  \n",
       "211858  [[MISOGYNY-NON-SEXUAL-VIOLENCE], [IDEOLOGICAL-...  TRAIN-MEME_EN  \n",
       "210133  [[STEREOTYPING-DOMINANCE, MISOGYNY-NON-SEXUAL-...  TRAIN-MEME_EN  \n",
       "210646  [[-], [-], [OBJECTIFICATION], [-], [SEXUAL-VIO...  TRAIN-MEME_EN  \n",
       "210291  [[-], [-], [-], [-], [MISOGYNY-NON-SEXUAL-VIOL...  TRAIN-MEME_EN  "
      ]
     },
     "execution_count": 3,
     "metadata": {},
     "output_type": "execute_result"
    }
   ],
   "source": [
    "with open('EXIST 2024 Lab/EXIST 2024 Memes Dataset/training/EXIST2024_training.json', 'r', encoding='utf-8') as fp:\n",
    "    annotations = json.load(fp)\n",
    "df = pd.DataFrame.from_dict(annotations).T\n",
    "df = df[df['lang'] == 'en'].sample(100)\n",
    "df.head()"
   ]
  },
  {
   "cell_type": "code",
   "execution_count": 4,
   "metadata": {},
   "outputs": [
    {
     "data": {
      "text/plain": [
       "1"
      ]
     },
     "execution_count": 4,
     "metadata": {},
     "output_type": "execute_result"
    }
   ],
   "source": [
    "df['number_annotators'].nunique()"
   ]
  },
  {
   "cell_type": "code",
   "execution_count": 5,
   "metadata": {},
   "outputs": [
    {
     "data": {
      "text/html": [
       "<div>\n",
       "<style scoped>\n",
       "    .dataframe tbody tr th:only-of-type {\n",
       "        vertical-align: middle;\n",
       "    }\n",
       "\n",
       "    .dataframe tbody tr th {\n",
       "        vertical-align: top;\n",
       "    }\n",
       "\n",
       "    .dataframe thead th {\n",
       "        text-align: right;\n",
       "    }\n",
       "</style>\n",
       "<table border=\"1\" class=\"dataframe\">\n",
       "  <thead>\n",
       "    <tr style=\"text-align: right;\">\n",
       "      <th></th>\n",
       "      <th>meme</th>\n",
       "      <th>text</th>\n",
       "      <th>lang</th>\n",
       "      <th>ethnicities_annotators</th>\n",
       "      <th>labels_task4</th>\n",
       "      <th>labels_task5</th>\n",
       "      <th>labels_task6</th>\n",
       "    </tr>\n",
       "  </thead>\n",
       "  <tbody>\n",
       "    <tr>\n",
       "      <th>0</th>\n",
       "      <td>210916.jpeg</td>\n",
       "      <td>A FEMINIST ON THE INTERNET SAID I WAS MANSPLAI...</td>\n",
       "      <td>en</td>\n",
       "      <td>[White or Caucasian, White or Caucasian, White...</td>\n",
       "      <td>[YES, YES, YES, YES, NO, YES]</td>\n",
       "      <td>[DIRECT, DIRECT, JUDGEMENTAL, JUDGEMENTAL, -, ...</td>\n",
       "      <td>[[IDEOLOGICAL-INEQUALITY, STEREOTYPING-DOMINAN...</td>\n",
       "    </tr>\n",
       "    <tr>\n",
       "      <th>1</th>\n",
       "      <td>211858.jpeg</td>\n",
       "      <td>RIHANNA? COCKSUCKER WHORE makeameme.org</td>\n",
       "      <td>en</td>\n",
       "      <td>[Middle Eastern, Black or African American, Wh...</td>\n",
       "      <td>[YES, YES, YES, YES, YES, YES]</td>\n",
       "      <td>[DIRECT, DIRECT, DIRECT, DIRECT, DIRECT, DIRECT]</td>\n",
       "      <td>[[MISOGYNY-NON-SEXUAL-VIOLENCE], [IDEOLOGICAL-...</td>\n",
       "    </tr>\n",
       "    <tr>\n",
       "      <th>2</th>\n",
       "      <td>210133.png</td>\n",
       "      <td>What advice do the Mario bros have for dealing...</td>\n",
       "      <td>en</td>\n",
       "      <td>[White or Caucasian, White or Caucasian, Black...</td>\n",
       "      <td>[YES, YES, NO, YES, NO, NO]</td>\n",
       "      <td>[DIRECT, JUDGEMENTAL, -, DIRECT, -, -]</td>\n",
       "      <td>[[STEREOTYPING-DOMINANCE, MISOGYNY-NON-SEXUAL-...</td>\n",
       "    </tr>\n",
       "    <tr>\n",
       "      <th>3</th>\n",
       "      <td>210646.jpeg</td>\n",
       "      <td>Hey Girls, did you know that uhmm.. Can go whe...</td>\n",
       "      <td>en</td>\n",
       "      <td>[Black or African American, White or Caucasian...</td>\n",
       "      <td>[NO, NO, YES, NO, YES, YES]</td>\n",
       "      <td>[-, -, DIRECT, -, DIRECT, DIRECT]</td>\n",
       "      <td>[[-], [-], [OBJECTIFICATION], [-], [SEXUAL-VIO...</td>\n",
       "    </tr>\n",
       "    <tr>\n",
       "      <th>4</th>\n",
       "      <td>210291.jpeg</td>\n",
       "      <td>That's right. You get in there &amp; derail that c...</td>\n",
       "      <td>en</td>\n",
       "      <td>[White or Caucasian, Black or African American...</td>\n",
       "      <td>[NO, NO, NO, NO, YES, NO]</td>\n",
       "      <td>[-, -, -, -, DIRECT, -]</td>\n",
       "      <td>[[-], [-], [-], [-], [MISOGYNY-NON-SEXUAL-VIOL...</td>\n",
       "    </tr>\n",
       "  </tbody>\n",
       "</table>\n",
       "</div>"
      ],
      "text/plain": [
       "          meme                                               text lang  \\\n",
       "0  210916.jpeg  A FEMINIST ON THE INTERNET SAID I WAS MANSPLAI...   en   \n",
       "1  211858.jpeg          RIHANNA? COCKSUCKER WHORE makeameme.org     en   \n",
       "2   210133.png  What advice do the Mario bros have for dealing...   en   \n",
       "3  210646.jpeg  Hey Girls, did you know that uhmm.. Can go whe...   en   \n",
       "4  210291.jpeg  That's right. You get in there & derail that c...   en   \n",
       "\n",
       "                              ethnicities_annotators  \\\n",
       "0  [White or Caucasian, White or Caucasian, White...   \n",
       "1  [Middle Eastern, Black or African American, Wh...   \n",
       "2  [White or Caucasian, White or Caucasian, Black...   \n",
       "3  [Black or African American, White or Caucasian...   \n",
       "4  [White or Caucasian, Black or African American...   \n",
       "\n",
       "                     labels_task4  \\\n",
       "0   [YES, YES, YES, YES, NO, YES]   \n",
       "1  [YES, YES, YES, YES, YES, YES]   \n",
       "2     [YES, YES, NO, YES, NO, NO]   \n",
       "3     [NO, NO, YES, NO, YES, YES]   \n",
       "4       [NO, NO, NO, NO, YES, NO]   \n",
       "\n",
       "                                        labels_task5  \\\n",
       "0  [DIRECT, DIRECT, JUDGEMENTAL, JUDGEMENTAL, -, ...   \n",
       "1   [DIRECT, DIRECT, DIRECT, DIRECT, DIRECT, DIRECT]   \n",
       "2             [DIRECT, JUDGEMENTAL, -, DIRECT, -, -]   \n",
       "3                  [-, -, DIRECT, -, DIRECT, DIRECT]   \n",
       "4                            [-, -, -, -, DIRECT, -]   \n",
       "\n",
       "                                        labels_task6  \n",
       "0  [[IDEOLOGICAL-INEQUALITY, STEREOTYPING-DOMINAN...  \n",
       "1  [[MISOGYNY-NON-SEXUAL-VIOLENCE], [IDEOLOGICAL-...  \n",
       "2  [[STEREOTYPING-DOMINANCE, MISOGYNY-NON-SEXUAL-...  \n",
       "3  [[-], [-], [OBJECTIFICATION], [-], [SEXUAL-VIO...  \n",
       "4  [[-], [-], [-], [-], [MISOGYNY-NON-SEXUAL-VIOL...  "
      ]
     },
     "execution_count": 5,
     "metadata": {},
     "output_type": "execute_result"
    }
   ],
   "source": [
    "mini_df = df[['meme', 'text', 'lang', 'ethnicities_annotators', 'labels_task4', 'labels_task5', 'labels_task6']].reset_index(drop=True)\n",
    "mini_df.head()"
   ]
  },
  {
   "cell_type": "code",
   "execution_count": 6,
   "metadata": {},
   "outputs": [
    {
     "data": {
      "text/html": [
       "<div>\n",
       "<style scoped>\n",
       "    .dataframe tbody tr th:only-of-type {\n",
       "        vertical-align: middle;\n",
       "    }\n",
       "\n",
       "    .dataframe tbody tr th {\n",
       "        vertical-align: top;\n",
       "    }\n",
       "\n",
       "    .dataframe thead th {\n",
       "        text-align: right;\n",
       "    }\n",
       "</style>\n",
       "<table border=\"1\" class=\"dataframe\">\n",
       "  <thead>\n",
       "    <tr style=\"text-align: right;\">\n",
       "      <th></th>\n",
       "      <th>meme</th>\n",
       "      <th>text</th>\n",
       "      <th>lang</th>\n",
       "      <th>ethnicities_annotators</th>\n",
       "      <th>labels_task4</th>\n",
       "      <th>labels_task5</th>\n",
       "      <th>labels_task6</th>\n",
       "      <th>label_task4</th>\n",
       "    </tr>\n",
       "  </thead>\n",
       "  <tbody>\n",
       "    <tr>\n",
       "      <th>0</th>\n",
       "      <td>210916.jpeg</td>\n",
       "      <td>A FEMINIST ON THE INTERNET SAID I WAS MANSPLAI...</td>\n",
       "      <td>en</td>\n",
       "      <td>[White or Caucasian, White or Caucasian, White...</td>\n",
       "      <td>[YES, YES, YES, YES, NO, YES]</td>\n",
       "      <td>[DIRECT, DIRECT, JUDGEMENTAL, JUDGEMENTAL, -, ...</td>\n",
       "      <td>[[IDEOLOGICAL-INEQUALITY, STEREOTYPING-DOMINAN...</td>\n",
       "      <td>1</td>\n",
       "    </tr>\n",
       "    <tr>\n",
       "      <th>1</th>\n",
       "      <td>211858.jpeg</td>\n",
       "      <td>RIHANNA? COCKSUCKER WHORE makeameme.org</td>\n",
       "      <td>en</td>\n",
       "      <td>[Middle Eastern, Black or African American, Wh...</td>\n",
       "      <td>[YES, YES, YES, YES, YES, YES]</td>\n",
       "      <td>[DIRECT, DIRECT, DIRECT, DIRECT, DIRECT, DIRECT]</td>\n",
       "      <td>[[MISOGYNY-NON-SEXUAL-VIOLENCE], [IDEOLOGICAL-...</td>\n",
       "      <td>1</td>\n",
       "    </tr>\n",
       "    <tr>\n",
       "      <th>2</th>\n",
       "      <td>210133.png</td>\n",
       "      <td>What advice do the Mario bros have for dealing...</td>\n",
       "      <td>en</td>\n",
       "      <td>[White or Caucasian, White or Caucasian, Black...</td>\n",
       "      <td>[YES, YES, NO, YES, NO, NO]</td>\n",
       "      <td>[DIRECT, JUDGEMENTAL, -, DIRECT, -, -]</td>\n",
       "      <td>[[STEREOTYPING-DOMINANCE, MISOGYNY-NON-SEXUAL-...</td>\n",
       "      <td>1</td>\n",
       "    </tr>\n",
       "    <tr>\n",
       "      <th>3</th>\n",
       "      <td>210646.jpeg</td>\n",
       "      <td>Hey Girls, did you know that uhmm.. Can go whe...</td>\n",
       "      <td>en</td>\n",
       "      <td>[Black or African American, White or Caucasian...</td>\n",
       "      <td>[NO, NO, YES, NO, YES, YES]</td>\n",
       "      <td>[-, -, DIRECT, -, DIRECT, DIRECT]</td>\n",
       "      <td>[[-], [-], [OBJECTIFICATION], [-], [SEXUAL-VIO...</td>\n",
       "      <td>1</td>\n",
       "    </tr>\n",
       "    <tr>\n",
       "      <th>4</th>\n",
       "      <td>210291.jpeg</td>\n",
       "      <td>That's right. You get in there &amp; derail that c...</td>\n",
       "      <td>en</td>\n",
       "      <td>[White or Caucasian, Black or African American...</td>\n",
       "      <td>[NO, NO, NO, NO, YES, NO]</td>\n",
       "      <td>[-, -, -, -, DIRECT, -]</td>\n",
       "      <td>[[-], [-], [-], [-], [MISOGYNY-NON-SEXUAL-VIOL...</td>\n",
       "      <td>0</td>\n",
       "    </tr>\n",
       "  </tbody>\n",
       "</table>\n",
       "</div>"
      ],
      "text/plain": [
       "          meme                                               text lang  \\\n",
       "0  210916.jpeg  A FEMINIST ON THE INTERNET SAID I WAS MANSPLAI...   en   \n",
       "1  211858.jpeg          RIHANNA? COCKSUCKER WHORE makeameme.org     en   \n",
       "2   210133.png  What advice do the Mario bros have for dealing...   en   \n",
       "3  210646.jpeg  Hey Girls, did you know that uhmm.. Can go whe...   en   \n",
       "4  210291.jpeg  That's right. You get in there & derail that c...   en   \n",
       "\n",
       "                              ethnicities_annotators  \\\n",
       "0  [White or Caucasian, White or Caucasian, White...   \n",
       "1  [Middle Eastern, Black or African American, Wh...   \n",
       "2  [White or Caucasian, White or Caucasian, Black...   \n",
       "3  [Black or African American, White or Caucasian...   \n",
       "4  [White or Caucasian, Black or African American...   \n",
       "\n",
       "                     labels_task4  \\\n",
       "0   [YES, YES, YES, YES, NO, YES]   \n",
       "1  [YES, YES, YES, YES, YES, YES]   \n",
       "2     [YES, YES, NO, YES, NO, NO]   \n",
       "3     [NO, NO, YES, NO, YES, YES]   \n",
       "4       [NO, NO, NO, NO, YES, NO]   \n",
       "\n",
       "                                        labels_task5  \\\n",
       "0  [DIRECT, DIRECT, JUDGEMENTAL, JUDGEMENTAL, -, ...   \n",
       "1   [DIRECT, DIRECT, DIRECT, DIRECT, DIRECT, DIRECT]   \n",
       "2             [DIRECT, JUDGEMENTAL, -, DIRECT, -, -]   \n",
       "3                  [-, -, DIRECT, -, DIRECT, DIRECT]   \n",
       "4                            [-, -, -, -, DIRECT, -]   \n",
       "\n",
       "                                        labels_task6  label_task4  \n",
       "0  [[IDEOLOGICAL-INEQUALITY, STEREOTYPING-DOMINAN...            1  \n",
       "1  [[MISOGYNY-NON-SEXUAL-VIOLENCE], [IDEOLOGICAL-...            1  \n",
       "2  [[STEREOTYPING-DOMINANCE, MISOGYNY-NON-SEXUAL-...            1  \n",
       "3  [[-], [-], [OBJECTIFICATION], [-], [SEXUAL-VIO...            1  \n",
       "4  [[-], [-], [-], [-], [MISOGYNY-NON-SEXUAL-VIOL...            0  "
      ]
     },
     "execution_count": 6,
     "metadata": {},
     "output_type": "execute_result"
    }
   ],
   "source": [
    "def label4_choose(row):\n",
    "    # We're going with the simplest option, majority voting\n",
    "    # Tiebreaker will be random\n",
    "    label_list = row['labels_task4']\n",
    "    label_counts = Counter(label_list)\n",
    "    max_count = max(label_counts.values())\n",
    "    max_labels = [label for label, count in label_counts.items() if count == max_count]\n",
    "    if len(max_labels) == 1:  # Majority label is unique\n",
    "        return max_labels[0]\n",
    "    else:  # Random tiebreaker\n",
    "        return random.choice(max_labels)\n",
    "\n",
    "mini_df['label_task4'] = mini_df.apply(label4_choose, axis=1).map({'YES': 1, 'NO': 0})\n",
    "mini_df.head()"
   ]
  },
  {
   "cell_type": "code",
   "execution_count": 7,
   "metadata": {},
   "outputs": [],
   "source": [
    "vit = ViT(\n",
    "    image_size = 256,\n",
    "    patch_size = 32,\n",
    "    num_classes = 2,\n",
    "    dim = 1024,\n",
    "    depth = 6,\n",
    "    heads = 16,\n",
    "    mlp_dim = 2048,\n",
    "    dropout = 0.1,\n",
    "    emb_dropout = 0.1\n",
    ")\n",
    "vit = Extractor(vit).to(GLOBAL_DEVICE)  # We only need the embeddings from the ViT\n",
    "\n",
    "# Number of patches, n = (image_size // patch_size) ** 2"
   ]
  },
  {
   "cell_type": "code",
   "execution_count": 8,
   "metadata": {},
   "outputs": [],
   "source": [
    "bert_tokeniser = hf.BertTokenizer.from_pretrained('bert-base-uncased')\n",
    "bert_model = hf.BertModel.from_pretrained('bert-base-uncased').to(GLOBAL_DEVICE)"
   ]
  },
  {
   "cell_type": "code",
   "execution_count": 9,
   "metadata": {},
   "outputs": [
    {
     "data": {
      "text/html": [
       "<div>\n",
       "<style scoped>\n",
       "    .dataframe tbody tr th:only-of-type {\n",
       "        vertical-align: middle;\n",
       "    }\n",
       "\n",
       "    .dataframe tbody tr th {\n",
       "        vertical-align: top;\n",
       "    }\n",
       "\n",
       "    .dataframe thead th {\n",
       "        text-align: right;\n",
       "    }\n",
       "</style>\n",
       "<table border=\"1\" class=\"dataframe\">\n",
       "  <thead>\n",
       "    <tr style=\"text-align: right;\">\n",
       "      <th></th>\n",
       "      <th>meme</th>\n",
       "      <th>text</th>\n",
       "    </tr>\n",
       "  </thead>\n",
       "  <tbody>\n",
       "    <tr>\n",
       "      <th>0</th>\n",
       "      <td>211991.jpeg</td>\n",
       "      <td>Ais Women He's not online, he's surely with th...</td>\n",
       "    </tr>\n",
       "    <tr>\n",
       "      <th>1</th>\n",
       "      <td>211784.png</td>\n",
       "      <td>Random girl: ,,Men today don't know how to tre...</td>\n",
       "    </tr>\n",
       "    <tr>\n",
       "      <th>2</th>\n",
       "      <td>210477.jpeg</td>\n",
       "      <td>\"Hey beautiful, why don't you smile?\" because ...</td>\n",
       "    </tr>\n",
       "    <tr>\n",
       "      <th>3</th>\n",
       "      <td>211346.jpeg</td>\n",
       "      <td>DURING LABOR, THE PAIN IS SO GREAT THAT A WOMA...</td>\n",
       "    </tr>\n",
       "    <tr>\n",
       "      <th>4</th>\n",
       "      <td>210002.jpeg</td>\n",
       "      <td>When your homie says \"a woman's body count sho...</td>\n",
       "    </tr>\n",
       "    <tr>\n",
       "      <th>...</th>\n",
       "      <td>...</td>\n",
       "      <td>...</td>\n",
       "    </tr>\n",
       "    <tr>\n",
       "      <th>75</th>\n",
       "      <td>210926.jpeg</td>\n",
       "      <td>\"INSERT MANSPLAINING HERE\" imgflip.com ALL WOM...</td>\n",
       "    </tr>\n",
       "    <tr>\n",
       "      <th>76</th>\n",
       "      <td>212000.jpeg</td>\n",
       "      <td>BITCHES BE UGLY AS SHIT TALKIN BOUT SOME \"IF I...</td>\n",
       "    </tr>\n",
       "    <tr>\n",
       "      <th>77</th>\n",
       "      <td>211646.jpeg</td>\n",
       "      <td>When your stepsister catches you listening to ...</td>\n",
       "    </tr>\n",
       "    <tr>\n",
       "      <th>78</th>\n",
       "      <td>211816.jpeg</td>\n",
       "      <td>WHEN YOU FIND YOU 49 YEAR OLD р 12 AU TROPHY W...</td>\n",
       "    </tr>\n",
       "    <tr>\n",
       "      <th>79</th>\n",
       "      <td>210101.jpeg</td>\n",
       "      <td>always pray before you eat</td>\n",
       "    </tr>\n",
       "  </tbody>\n",
       "</table>\n",
       "<p>80 rows × 2 columns</p>\n",
       "</div>"
      ],
      "text/plain": [
       "           meme                                               text\n",
       "0   211991.jpeg  Ais Women He's not online, he's surely with th...\n",
       "1    211784.png  Random girl: ,,Men today don't know how to tre...\n",
       "2   210477.jpeg  \"Hey beautiful, why don't you smile?\" because ...\n",
       "3   211346.jpeg  DURING LABOR, THE PAIN IS SO GREAT THAT A WOMA...\n",
       "4   210002.jpeg  When your homie says \"a woman's body count sho...\n",
       "..          ...                                                ...\n",
       "75  210926.jpeg  \"INSERT MANSPLAINING HERE\" imgflip.com ALL WOM...\n",
       "76  212000.jpeg  BITCHES BE UGLY AS SHIT TALKIN BOUT SOME \"IF I...\n",
       "77  211646.jpeg  When your stepsister catches you listening to ...\n",
       "78  211816.jpeg  WHEN YOU FIND YOU 49 YEAR OLD р 12 AU TROPHY W...\n",
       "79  210101.jpeg                       always pray before you eat  \n",
       "\n",
       "[80 rows x 2 columns]"
      ]
     },
     "execution_count": 9,
     "metadata": {},
     "output_type": "execute_result"
    }
   ],
   "source": [
    "def dataframe_train_test_split(df, target_label, seed=42, test_size=0.2, split_labels=True):\n",
    "    train = df.sample(frac=(1.0 - test_size), random_state=seed).reset_index(drop=True)\n",
    "    test = df.drop(train.index).sample(frac=1.0, random_state=seed).reset_index(drop=True)\n",
    "\n",
    "    if split_labels:\n",
    "        return train.drop(columns=target_label), test.drop(columns=target_label), train[target_label], test[target_label]\n",
    "    else:\n",
    "        return train, test\n",
    "\n",
    "X_train, X_test, y_train, y_test = dataframe_train_test_split(mini_df[['meme', 'text', 'label_task4']], 'label_task4', test_size=0.2, seed=42)\n",
    "X_train\n"
   ]
  },
  {
   "cell_type": "code",
   "execution_count": 10,
   "metadata": {},
   "outputs": [],
   "source": [
    "class ExistDataset(Dataset):\n",
    "    def __init__(self, features, labels, img_dir, img_transform=None, caption_transform=None, target_transform=None):\n",
    "        self.features = features\n",
    "        self.labels = labels\n",
    "        self.img_dir = img_dir\n",
    "        self.img_transform = img_transform\n",
    "        self.caption_transform = caption_transform\n",
    "        self.target_transform = target_transform\n",
    "\n",
    "    def __len__(self):\n",
    "        return len(self.labels)\n",
    "\n",
    "    def __getitem__(self, idx):\n",
    "        img_path = str(self.img_dir.joinpath(self.features['meme'].iloc[idx]))\n",
    "        image = read_image(img_path, mode=ImageReadMode.RGB).to(device=GLOBAL_DEVICE, dtype=torch.float32)\n",
    "        caption = self.features['text'].iloc[idx]\n",
    "        label = self.labels.iloc[idx]\n",
    "        if self.img_transform:\n",
    "            image = self.img_transform(image)\n",
    "        if self.caption_transform:\n",
    "            caption = self.caption_transform(caption)\n",
    "        if self.target_transform:\n",
    "            label = self.target_transform(label)\n",
    "        return image, caption, label"
   ]
  },
  {
   "cell_type": "code",
   "execution_count": 11,
   "metadata": {},
   "outputs": [],
   "source": [
    "resizer = Resize((256, 256), antialias=True)\n",
    "\n",
    "def resize_images(img_tensor):\n",
    "    return resizer(img_tensor)"
   ]
  },
  {
   "cell_type": "code",
   "execution_count": 12,
   "metadata": {},
   "outputs": [
    {
     "data": {
      "text/plain": [
       "<__main__.ExistDataset at 0x1f1f278c110>"
      ]
     },
     "execution_count": 12,
     "metadata": {},
     "output_type": "execute_result"
    }
   ],
   "source": [
    "train_dataset = ExistDataset(X_train, y_train, base_path, img_transform=resize_images)\n",
    "train_dataset"
   ]
  },
  {
   "cell_type": "code",
   "execution_count": 13,
   "metadata": {},
   "outputs": [],
   "source": [
    "max_length = 512"
   ]
  },
  {
   "cell_type": "code",
   "execution_count": 14,
   "metadata": {},
   "outputs": [],
   "source": [
    "class ConcatArch(nn.Module):\n",
    "    def __init__(self, hidden_size, num_classes):\n",
    "        super().__init__()\n",
    "        self.hidden_size = hidden_size\n",
    "        self.fc1 = nn.Linear(768 + 1024, self.hidden_size)\n",
    "        self.fc2 = nn.Linear(self.hidden_size, num_classes)\n",
    "        self.activation = nn.ReLU()\n",
    "        self.output = nn.Softmax(dim=1)\n",
    "\n",
    "    def forward(self, x):\n",
    "        x = self.fc1(x)\n",
    "        x = self.activation(x)\n",
    "        x = self.fc2(x)\n",
    "        output = self.output(x)\n",
    "        return output\n"
   ]
  },
  {
   "cell_type": "code",
   "execution_count": 16,
   "metadata": {},
   "outputs": [
    {
     "name": "stderr",
     "output_type": "stream",
     "text": [
      "c:\\Users\\pachinkomachine\\AppData\\Local\\Programs\\Python\\Python311\\Lib\\site-packages\\transformers\\optimization.py:457: FutureWarning: This implementation of AdamW is deprecated and will be removed in a future version. Use the PyTorch implementation torch.optim.AdamW instead, or set `no_deprecation_warning=True` to disable this warning\n",
      "  warnings.warn(\n",
      "Epoch 1/10:   0%|          | 0/10 [00:00<?, ?it/s]"
     ]
    },
    {
     "name": "stderr",
     "output_type": "stream",
     "text": [
      "Epoch 1/10:  10%|█         | 1/10 [00:00<00:06,  1.41it/s]"
     ]
    },
    {
     "name": "stdout",
     "output_type": "stream",
     "text": [
      "Train Loss: 3.7500\n"
     ]
    },
    {
     "name": "stderr",
     "output_type": "stream",
     "text": [
      "Epoch 1/10:  20%|██        | 2/10 [00:01<00:03,  2.09it/s]"
     ]
    },
    {
     "name": "stdout",
     "output_type": "stream",
     "text": [
      "Train Loss: 7.8750\n"
     ]
    },
    {
     "name": "stderr",
     "output_type": "stream",
     "text": [
      "Epoch 1/10:  30%|███       | 3/10 [00:01<00:02,  2.68it/s]"
     ]
    },
    {
     "name": "stdout",
     "output_type": "stream",
     "text": [
      "Train Loss: 3.2875\n"
     ]
    },
    {
     "name": "stderr",
     "output_type": "stream",
     "text": [
      "Epoch 1/10:  40%|████      | 4/10 [00:01<00:01,  3.01it/s]"
     ]
    },
    {
     "name": "stdout",
     "output_type": "stream",
     "text": [
      "Train Loss: 5.3288\n"
     ]
    },
    {
     "name": "stderr",
     "output_type": "stream",
     "text": [
      "Epoch 1/10:  50%|█████     | 5/10 [00:01<00:01,  3.26it/s]"
     ]
    },
    {
     "name": "stdout",
     "output_type": "stream",
     "text": [
      "Train Loss: 6.7829\n"
     ]
    },
    {
     "name": "stderr",
     "output_type": "stream",
     "text": [
      "Epoch 1/10:  60%|██████    | 6/10 [00:02<00:01,  3.44it/s]"
     ]
    },
    {
     "name": "stdout",
     "output_type": "stream",
     "text": [
      "Train Loss: 3.1783\n"
     ]
    },
    {
     "name": "stderr",
     "output_type": "stream",
     "text": [
      "Epoch 1/10:  70%|███████   | 7/10 [00:02<00:00,  3.58it/s]"
     ]
    },
    {
     "name": "stdout",
     "output_type": "stream",
     "text": [
      "Train Loss: 2.8178\n"
     ]
    },
    {
     "name": "stderr",
     "output_type": "stream",
     "text": [
      "Epoch 1/10:  80%|████████  | 8/10 [00:02<00:00,  3.58it/s]"
     ]
    },
    {
     "name": "stdout",
     "output_type": "stream",
     "text": [
      "Train Loss: 4.0318\n"
     ]
    },
    {
     "name": "stderr",
     "output_type": "stream",
     "text": [
      "Epoch 1/10:  90%|█████████ | 9/10 [00:02<00:00,  3.71it/s]"
     ]
    },
    {
     "name": "stdout",
     "output_type": "stream",
     "text": [
      "Train Loss: 5.4032\n"
     ]
    },
    {
     "name": "stderr",
     "output_type": "stream",
     "text": [
      "Epoch 1/10: 100%|██████████| 10/10 [00:03<00:00,  3.22it/s]\n"
     ]
    },
    {
     "name": "stdout",
     "output_type": "stream",
     "text": [
      "Train Loss: 5.5403\n"
     ]
    },
    {
     "name": "stderr",
     "output_type": "stream",
     "text": [
      "Epoch 2/10:  10%|█         | 1/10 [00:00<00:02,  3.56it/s]"
     ]
    },
    {
     "name": "stdout",
     "output_type": "stream",
     "text": [
      "Train Loss: 2.5000\n"
     ]
    },
    {
     "name": "stderr",
     "output_type": "stream",
     "text": [
      "Epoch 2/10:  20%|██        | 2/10 [00:00<00:02,  3.56it/s]"
     ]
    },
    {
     "name": "stdout",
     "output_type": "stream",
     "text": [
      "Train Loss: 5.2500\n"
     ]
    },
    {
     "name": "stderr",
     "output_type": "stream",
     "text": [
      "Epoch 2/10:  30%|███       | 3/10 [00:00<00:01,  3.72it/s]"
     ]
    },
    {
     "name": "stdout",
     "output_type": "stream",
     "text": [
      "Train Loss: 5.5250\n"
     ]
    },
    {
     "name": "stderr",
     "output_type": "stream",
     "text": [
      "Epoch 2/10:  40%|████      | 4/10 [00:01<00:01,  3.72it/s]"
     ]
    },
    {
     "name": "stdout",
     "output_type": "stream",
     "text": [
      "Train Loss: 4.3025\n"
     ]
    },
    {
     "name": "stderr",
     "output_type": "stream",
     "text": [
      "Epoch 2/10:  50%|█████     | 5/10 [00:01<00:01,  3.76it/s]"
     ]
    },
    {
     "name": "stdout",
     "output_type": "stream",
     "text": [
      "Train Loss: 4.1803\n"
     ]
    },
    {
     "name": "stderr",
     "output_type": "stream",
     "text": [
      "Epoch 2/10:  60%|██████    | 6/10 [00:01<00:01,  3.60it/s]"
     ]
    },
    {
     "name": "stdout",
     "output_type": "stream",
     "text": [
      "Train Loss: 4.1680\n"
     ]
    },
    {
     "name": "stderr",
     "output_type": "stream",
     "text": [
      "Epoch 2/10:  70%|███████   | 7/10 [00:01<00:00,  3.51it/s]"
     ]
    },
    {
     "name": "stdout",
     "output_type": "stream",
     "text": [
      "Train Loss: 4.1668\n"
     ]
    },
    {
     "name": "stderr",
     "output_type": "stream",
     "text": [
      "Epoch 2/10:  80%|████████  | 8/10 [00:02<00:00,  3.61it/s]"
     ]
    },
    {
     "name": "stdout",
     "output_type": "stream",
     "text": [
      "Train Loss: 7.9167\n"
     ]
    },
    {
     "name": "stderr",
     "output_type": "stream",
     "text": [
      "Epoch 2/10:  90%|█████████ | 9/10 [00:02<00:00,  3.70it/s]"
     ]
    },
    {
     "name": "stdout",
     "output_type": "stream",
     "text": [
      "Train Loss: 5.7917\n"
     ]
    },
    {
     "name": "stderr",
     "output_type": "stream",
     "text": [
      "Epoch 2/10: 100%|██████████| 10/10 [00:02<00:00,  3.64it/s]\n"
     ]
    },
    {
     "name": "stdout",
     "output_type": "stream",
     "text": [
      "Train Loss: 4.3292\n"
     ]
    },
    {
     "name": "stderr",
     "output_type": "stream",
     "text": [
      "Epoch 3/10:  10%|█         | 1/10 [00:00<00:02,  3.95it/s]"
     ]
    },
    {
     "name": "stdout",
     "output_type": "stream",
     "text": [
      "Train Loss: 3.7500\n"
     ]
    },
    {
     "name": "stderr",
     "output_type": "stream",
     "text": [
      "Epoch 3/10:  20%|██        | 2/10 [00:00<00:01,  4.12it/s]"
     ]
    },
    {
     "name": "stdout",
     "output_type": "stream",
     "text": [
      "Train Loss: 5.3750\n"
     ]
    },
    {
     "name": "stderr",
     "output_type": "stream",
     "text": [
      "Epoch 3/10:  30%|███       | 3/10 [00:00<00:01,  3.91it/s]"
     ]
    },
    {
     "name": "stdout",
     "output_type": "stream",
     "text": [
      "Train Loss: 5.5375\n"
     ]
    },
    {
     "name": "stderr",
     "output_type": "stream",
     "text": [
      "Epoch 3/10:  40%|████      | 4/10 [00:01<00:01,  3.51it/s]"
     ]
    },
    {
     "name": "stdout",
     "output_type": "stream",
     "text": [
      "Train Loss: 4.3037\n"
     ]
    },
    {
     "name": "stderr",
     "output_type": "stream",
     "text": [
      "Epoch 3/10:  50%|█████     | 5/10 [00:01<00:01,  3.66it/s]"
     ]
    },
    {
     "name": "stdout",
     "output_type": "stream",
     "text": [
      "Train Loss: 4.1804\n"
     ]
    },
    {
     "name": "stderr",
     "output_type": "stream",
     "text": [
      "Epoch 3/10:  60%|██████    | 6/10 [00:01<00:01,  3.73it/s]"
     ]
    },
    {
     "name": "stdout",
     "output_type": "stream",
     "text": [
      "Train Loss: 5.4180\n"
     ]
    },
    {
     "name": "stderr",
     "output_type": "stream",
     "text": [
      "Epoch 3/10:  70%|███████   | 7/10 [00:01<00:00,  3.75it/s]"
     ]
    },
    {
     "name": "stdout",
     "output_type": "stream",
     "text": [
      "Train Loss: 5.5418\n"
     ]
    },
    {
     "name": "stderr",
     "output_type": "stream",
     "text": [
      "Epoch 3/10:  80%|████████  | 8/10 [00:02<00:00,  3.67it/s]"
     ]
    },
    {
     "name": "stdout",
     "output_type": "stream",
     "text": [
      "Train Loss: 3.0542\n"
     ]
    },
    {
     "name": "stderr",
     "output_type": "stream",
     "text": [
      "Epoch 3/10:  90%|█████████ | 9/10 [00:02<00:00,  3.64it/s]"
     ]
    },
    {
     "name": "stdout",
     "output_type": "stream",
     "text": [
      "Train Loss: 5.3054\n"
     ]
    },
    {
     "name": "stderr",
     "output_type": "stream",
     "text": [
      "Epoch 3/10: 100%|██████████| 10/10 [00:02<00:00,  3.72it/s]\n"
     ]
    },
    {
     "name": "stdout",
     "output_type": "stream",
     "text": [
      "Train Loss: 5.5305\n"
     ]
    },
    {
     "name": "stderr",
     "output_type": "stream",
     "text": [
      "Epoch 4/10:  10%|█         | 1/10 [00:00<00:02,  4.08it/s]"
     ]
    },
    {
     "name": "stdout",
     "output_type": "stream",
     "text": [
      "Train Loss: 2.5000\n"
     ]
    },
    {
     "name": "stderr",
     "output_type": "stream",
     "text": [
      "Epoch 4/10:  20%|██        | 2/10 [00:00<00:01,  4.01it/s]"
     ]
    },
    {
     "name": "stdout",
     "output_type": "stream",
     "text": [
      "Train Loss: 6.5000\n"
     ]
    },
    {
     "name": "stderr",
     "output_type": "stream",
     "text": [
      "Epoch 4/10:  30%|███       | 3/10 [00:00<00:01,  3.91it/s]"
     ]
    },
    {
     "name": "stdout",
     "output_type": "stream",
     "text": [
      "Train Loss: 8.1500\n"
     ]
    },
    {
     "name": "stderr",
     "output_type": "stream",
     "text": [
      "Epoch 4/10:  40%|████      | 4/10 [00:01<00:01,  3.79it/s]"
     ]
    },
    {
     "name": "stdout",
     "output_type": "stream",
     "text": [
      "Train Loss: 3.3150\n"
     ]
    },
    {
     "name": "stderr",
     "output_type": "stream",
     "text": [
      "Epoch 4/10:  50%|█████     | 5/10 [00:01<00:01,  3.70it/s]"
     ]
    },
    {
     "name": "stdout",
     "output_type": "stream",
     "text": [
      "Train Loss: 6.5815\n"
     ]
    },
    {
     "name": "stderr",
     "output_type": "stream",
     "text": [
      "Epoch 4/10:  60%|██████    | 6/10 [00:01<00:01,  3.63it/s]"
     ]
    },
    {
     "name": "stdout",
     "output_type": "stream",
     "text": [
      "Train Loss: 3.1582\n"
     ]
    },
    {
     "name": "stderr",
     "output_type": "stream",
     "text": [
      "Epoch 4/10:  70%|███████   | 7/10 [00:01<00:00,  3.65it/s]"
     ]
    },
    {
     "name": "stdout",
     "output_type": "stream",
     "text": [
      "Train Loss: 5.3158\n"
     ]
    },
    {
     "name": "stderr",
     "output_type": "stream",
     "text": [
      "Epoch 4/10:  80%|████████  | 8/10 [00:02<00:00,  3.69it/s]"
     ]
    },
    {
     "name": "stdout",
     "output_type": "stream",
     "text": [
      "Train Loss: 6.7816\n"
     ]
    },
    {
     "name": "stderr",
     "output_type": "stream",
     "text": [
      "Epoch 4/10:  90%|█████████ | 9/10 [00:02<00:00,  3.76it/s]"
     ]
    },
    {
     "name": "stdout",
     "output_type": "stream",
     "text": [
      "Train Loss: 3.1782\n"
     ]
    },
    {
     "name": "stderr",
     "output_type": "stream",
     "text": [
      "Epoch 4/10: 100%|██████████| 10/10 [00:02<00:00,  3.71it/s]\n"
     ]
    },
    {
     "name": "stdout",
     "output_type": "stream",
     "text": [
      "Train Loss: 2.8178\n"
     ]
    },
    {
     "name": "stderr",
     "output_type": "stream",
     "text": [
      "Epoch 5/10:  10%|█         | 1/10 [00:00<00:02,  3.91it/s]"
     ]
    },
    {
     "name": "stdout",
     "output_type": "stream",
     "text": [
      "Train Loss: 3.7500\n"
     ]
    },
    {
     "name": "stderr",
     "output_type": "stream",
     "text": [
      "Epoch 5/10:  20%|██        | 2/10 [00:00<00:01,  4.07it/s]"
     ]
    },
    {
     "name": "stdout",
     "output_type": "stream",
     "text": [
      "Train Loss: 5.3750\n"
     ]
    },
    {
     "name": "stderr",
     "output_type": "stream",
     "text": [
      "Epoch 5/10:  30%|███       | 3/10 [00:00<00:01,  3.58it/s]"
     ]
    },
    {
     "name": "stdout",
     "output_type": "stream",
     "text": [
      "Train Loss: 5.5375\n"
     ]
    },
    {
     "name": "stderr",
     "output_type": "stream",
     "text": [
      "Epoch 5/10:  40%|████      | 4/10 [00:01<00:01,  3.74it/s]"
     ]
    },
    {
     "name": "stdout",
     "output_type": "stream",
     "text": [
      "Train Loss: 6.8037\n"
     ]
    },
    {
     "name": "stderr",
     "output_type": "stream",
     "text": [
      "Epoch 5/10:  50%|█████     | 5/10 [00:01<00:01,  3.91it/s]"
     ]
    },
    {
     "name": "stdout",
     "output_type": "stream",
     "text": [
      "Train Loss: 5.6804\n"
     ]
    },
    {
     "name": "stderr",
     "output_type": "stream",
     "text": [
      "Epoch 5/10:  60%|██████    | 6/10 [00:01<00:01,  3.82it/s]"
     ]
    },
    {
     "name": "stdout",
     "output_type": "stream",
     "text": [
      "Train Loss: 5.5680\n"
     ]
    },
    {
     "name": "stderr",
     "output_type": "stream",
     "text": [
      "Epoch 5/10:  70%|███████   | 7/10 [00:01<00:00,  3.85it/s]"
     ]
    },
    {
     "name": "stdout",
     "output_type": "stream",
     "text": [
      "Train Loss: 3.0568\n"
     ]
    },
    {
     "name": "stderr",
     "output_type": "stream",
     "text": [
      "Epoch 5/10:  80%|████████  | 8/10 [00:02<00:00,  3.62it/s]"
     ]
    },
    {
     "name": "stdout",
     "output_type": "stream",
     "text": [
      "Train Loss: 5.3057\n"
     ]
    },
    {
     "name": "stderr",
     "output_type": "stream",
     "text": [
      "Epoch 5/10:  90%|█████████ | 9/10 [00:02<00:00,  3.60it/s]"
     ]
    },
    {
     "name": "stdout",
     "output_type": "stream",
     "text": [
      "Train Loss: 4.2806\n"
     ]
    },
    {
     "name": "stderr",
     "output_type": "stream",
     "text": [
      "Epoch 5/10: 100%|██████████| 10/10 [00:02<00:00,  3.72it/s]\n"
     ]
    },
    {
     "name": "stdout",
     "output_type": "stream",
     "text": [
      "Train Loss: 2.9281\n"
     ]
    },
    {
     "name": "stderr",
     "output_type": "stream",
     "text": [
      "Epoch 6/10:  10%|█         | 1/10 [00:00<00:02,  3.98it/s]"
     ]
    },
    {
     "name": "stdout",
     "output_type": "stream",
     "text": [
      "Train Loss: 3.7500\n"
     ]
    },
    {
     "name": "stderr",
     "output_type": "stream",
     "text": [
      "Epoch 6/10:  20%|██        | 2/10 [00:00<00:02,  3.88it/s]"
     ]
    },
    {
     "name": "stdout",
     "output_type": "stream",
     "text": [
      "Train Loss: 4.1250\n"
     ]
    },
    {
     "name": "stderr",
     "output_type": "stream",
     "text": [
      "Epoch 6/10:  30%|███       | 3/10 [00:00<00:01,  3.60it/s]"
     ]
    },
    {
     "name": "stdout",
     "output_type": "stream",
     "text": [
      "Train Loss: 6.6625\n"
     ]
    },
    {
     "name": "stderr",
     "output_type": "stream",
     "text": [
      "Epoch 6/10:  40%|████      | 4/10 [00:01<00:01,  3.59it/s]"
     ]
    },
    {
     "name": "stdout",
     "output_type": "stream",
     "text": [
      "Train Loss: 3.1663\n"
     ]
    },
    {
     "name": "stderr",
     "output_type": "stream",
     "text": [
      "Epoch 6/10:  50%|█████     | 5/10 [00:01<00:01,  3.73it/s]"
     ]
    },
    {
     "name": "stdout",
     "output_type": "stream",
     "text": [
      "Train Loss: 5.3166\n"
     ]
    },
    {
     "name": "stderr",
     "output_type": "stream",
     "text": [
      "Epoch 6/10:  60%|██████    | 6/10 [00:01<00:01,  3.60it/s]"
     ]
    },
    {
     "name": "stdout",
     "output_type": "stream",
     "text": [
      "Train Loss: 8.0317\n"
     ]
    },
    {
     "name": "stderr",
     "output_type": "stream",
     "text": [
      "Epoch 6/10:  70%|███████   | 7/10 [00:01<00:00,  3.73it/s]"
     ]
    },
    {
     "name": "stdout",
     "output_type": "stream",
     "text": [
      "Train Loss: 2.0532\n"
     ]
    },
    {
     "name": "stderr",
     "output_type": "stream",
     "text": [
      "Epoch 6/10:  80%|████████  | 8/10 [00:02<00:00,  3.71it/s]"
     ]
    },
    {
     "name": "stdout",
     "output_type": "stream",
     "text": [
      "Train Loss: 2.7053\n"
     ]
    },
    {
     "name": "stderr",
     "output_type": "stream",
     "text": [
      "Epoch 6/10:  90%|█████████ | 9/10 [00:02<00:00,  3.81it/s]"
     ]
    },
    {
     "name": "stdout",
     "output_type": "stream",
     "text": [
      "Train Loss: 6.5205\n"
     ]
    },
    {
     "name": "stderr",
     "output_type": "stream",
     "text": [
      "Epoch 6/10: 100%|██████████| 10/10 [00:02<00:00,  3.75it/s]\n"
     ]
    },
    {
     "name": "stdout",
     "output_type": "stream",
     "text": [
      "Train Loss: 5.6521\n"
     ]
    },
    {
     "name": "stderr",
     "output_type": "stream",
     "text": [
      "Epoch 7/10:  10%|█         | 1/10 [00:00<00:02,  3.85it/s]"
     ]
    },
    {
     "name": "stdout",
     "output_type": "stream",
     "text": [
      "Train Loss: 7.5000\n"
     ]
    },
    {
     "name": "stderr",
     "output_type": "stream",
     "text": [
      "Epoch 7/10:  20%|██        | 2/10 [00:00<00:02,  3.92it/s]"
     ]
    },
    {
     "name": "stdout",
     "output_type": "stream",
     "text": [
      "Train Loss: 5.7500\n"
     ]
    },
    {
     "name": "stderr",
     "output_type": "stream",
     "text": [
      "Epoch 7/10:  30%|███       | 3/10 [00:00<00:01,  3.98it/s]"
     ]
    },
    {
     "name": "stdout",
     "output_type": "stream",
     "text": [
      "Train Loss: 4.3250\n"
     ]
    },
    {
     "name": "stderr",
     "output_type": "stream",
     "text": [
      "Epoch 7/10:  40%|████      | 4/10 [00:00<00:01,  4.06it/s]"
     ]
    },
    {
     "name": "stdout",
     "output_type": "stream",
     "text": [
      "Train Loss: 2.9325\n"
     ]
    },
    {
     "name": "stderr",
     "output_type": "stream",
     "text": [
      "Epoch 7/10:  50%|█████     | 5/10 [00:01<00:01,  3.99it/s]"
     ]
    },
    {
     "name": "stdout",
     "output_type": "stream",
     "text": [
      "Train Loss: 4.0432\n"
     ]
    },
    {
     "name": "stderr",
     "output_type": "stream",
     "text": [
      "Epoch 7/10:  60%|██████    | 6/10 [00:01<00:01,  3.91it/s]"
     ]
    },
    {
     "name": "stdout",
     "output_type": "stream",
     "text": [
      "Train Loss: 4.1543\n"
     ]
    },
    {
     "name": "stderr",
     "output_type": "stream",
     "text": [
      "Epoch 7/10:  70%|███████   | 7/10 [00:01<00:00,  3.62it/s]"
     ]
    },
    {
     "name": "stdout",
     "output_type": "stream",
     "text": [
      "Train Loss: 4.1654\n"
     ]
    },
    {
     "name": "stderr",
     "output_type": "stream",
     "text": [
      "Epoch 7/10:  80%|████████  | 8/10 [00:02<00:00,  3.64it/s]"
     ]
    },
    {
     "name": "stdout",
     "output_type": "stream",
     "text": [
      "Train Loss: 5.4165\n"
     ]
    },
    {
     "name": "stderr",
     "output_type": "stream",
     "text": [
      "Epoch 7/10:  90%|█████████ | 9/10 [00:02<00:00,  3.76it/s]"
     ]
    },
    {
     "name": "stdout",
     "output_type": "stream",
     "text": [
      "Train Loss: 5.5417\n"
     ]
    },
    {
     "name": "stderr",
     "output_type": "stream",
     "text": [
      "Epoch 7/10: 100%|██████████| 10/10 [00:02<00:00,  3.83it/s]\n"
     ]
    },
    {
     "name": "stdout",
     "output_type": "stream",
     "text": [
      "Train Loss: 4.3042\n"
     ]
    },
    {
     "name": "stderr",
     "output_type": "stream",
     "text": [
      "Epoch 8/10:  10%|█         | 1/10 [00:00<00:02,  4.05it/s]"
     ]
    },
    {
     "name": "stdout",
     "output_type": "stream",
     "text": [
      "Train Loss: 0.0000\n"
     ]
    },
    {
     "name": "stderr",
     "output_type": "stream",
     "text": [
      "Epoch 8/10:  20%|██        | 2/10 [00:00<00:01,  4.13it/s]"
     ]
    },
    {
     "name": "stdout",
     "output_type": "stream",
     "text": [
      "Train Loss: 5.0000\n"
     ]
    },
    {
     "name": "stderr",
     "output_type": "stream",
     "text": [
      "Epoch 8/10:  30%|███       | 3/10 [00:00<00:01,  4.15it/s]"
     ]
    },
    {
     "name": "stdout",
     "output_type": "stream",
     "text": [
      "Train Loss: 3.0000\n"
     ]
    },
    {
     "name": "stderr",
     "output_type": "stream",
     "text": [
      "Epoch 8/10:  40%|████      | 4/10 [00:00<00:01,  4.16it/s]"
     ]
    },
    {
     "name": "stdout",
     "output_type": "stream",
     "text": [
      "Train Loss: 9.0500\n"
     ]
    },
    {
     "name": "stderr",
     "output_type": "stream",
     "text": [
      "Epoch 8/10:  50%|█████     | 5/10 [00:01<00:01,  3.38it/s]"
     ]
    },
    {
     "name": "stdout",
     "output_type": "stream",
     "text": [
      "Train Loss: 4.6550\n"
     ]
    },
    {
     "name": "stderr",
     "output_type": "stream",
     "text": [
      "Epoch 8/10:  60%|██████    | 6/10 [00:01<00:01,  3.51it/s]"
     ]
    },
    {
     "name": "stdout",
     "output_type": "stream",
     "text": [
      "Train Loss: 5.4655\n"
     ]
    },
    {
     "name": "stderr",
     "output_type": "stream",
     "text": [
      "Epoch 8/10:  70%|███████   | 7/10 [00:01<00:00,  3.58it/s]"
     ]
    },
    {
     "name": "stdout",
     "output_type": "stream",
     "text": [
      "Train Loss: 5.5465\n"
     ]
    },
    {
     "name": "stderr",
     "output_type": "stream",
     "text": [
      "Epoch 8/10:  80%|████████  | 8/10 [00:02<00:00,  3.67it/s]"
     ]
    },
    {
     "name": "stdout",
     "output_type": "stream",
     "text": [
      "Train Loss: 5.5547\n"
     ]
    },
    {
     "name": "stderr",
     "output_type": "stream",
     "text": [
      "Epoch 8/10:  90%|█████████ | 9/10 [00:02<00:00,  3.61it/s]"
     ]
    },
    {
     "name": "stdout",
     "output_type": "stream",
     "text": [
      "Train Loss: 4.3055\n"
     ]
    },
    {
     "name": "stderr",
     "output_type": "stream",
     "text": [
      "Epoch 8/10: 100%|██████████| 10/10 [00:02<00:00,  3.74it/s]\n"
     ]
    },
    {
     "name": "stdout",
     "output_type": "stream",
     "text": [
      "Train Loss: 5.4305\n"
     ]
    },
    {
     "name": "stderr",
     "output_type": "stream",
     "text": [
      "Epoch 9/10:  10%|█         | 1/10 [00:00<00:02,  3.72it/s]"
     ]
    },
    {
     "name": "stdout",
     "output_type": "stream",
     "text": [
      "Train Loss: 2.5000\n"
     ]
    },
    {
     "name": "stderr",
     "output_type": "stream",
     "text": [
      "Epoch 9/10:  20%|██        | 2/10 [00:00<00:02,  3.73it/s]"
     ]
    },
    {
     "name": "stdout",
     "output_type": "stream",
     "text": [
      "Train Loss: 4.0000\n"
     ]
    },
    {
     "name": "stderr",
     "output_type": "stream",
     "text": [
      "Epoch 9/10:  30%|███       | 3/10 [00:00<00:01,  3.65it/s]"
     ]
    },
    {
     "name": "stdout",
     "output_type": "stream",
     "text": [
      "Train Loss: 6.6500\n"
     ]
    },
    {
     "name": "stderr",
     "output_type": "stream",
     "text": [
      "Epoch 9/10:  40%|████      | 4/10 [00:01<00:01,  3.52it/s]"
     ]
    },
    {
     "name": "stdout",
     "output_type": "stream",
     "text": [
      "Train Loss: 4.4150\n"
     ]
    },
    {
     "name": "stderr",
     "output_type": "stream",
     "text": [
      "Epoch 9/10:  50%|█████     | 5/10 [00:01<00:01,  3.60it/s]"
     ]
    },
    {
     "name": "stdout",
     "output_type": "stream",
     "text": [
      "Train Loss: 5.4415\n"
     ]
    },
    {
     "name": "stderr",
     "output_type": "stream",
     "text": [
      "Epoch 9/10:  60%|██████    | 6/10 [00:01<00:01,  3.73it/s]"
     ]
    },
    {
     "name": "stdout",
     "output_type": "stream",
     "text": [
      "Train Loss: 4.2942\n"
     ]
    },
    {
     "name": "stderr",
     "output_type": "stream",
     "text": [
      "Epoch 9/10:  70%|███████   | 7/10 [00:01<00:00,  3.84it/s]"
     ]
    },
    {
     "name": "stdout",
     "output_type": "stream",
     "text": [
      "Train Loss: 5.4294\n"
     ]
    },
    {
     "name": "stderr",
     "output_type": "stream",
     "text": [
      "Epoch 9/10:  80%|████████  | 8/10 [00:02<00:00,  3.72it/s]"
     ]
    },
    {
     "name": "stdout",
     "output_type": "stream",
     "text": [
      "Train Loss: 4.2929\n"
     ]
    },
    {
     "name": "stderr",
     "output_type": "stream",
     "text": [
      "Epoch 9/10:  90%|█████████ | 9/10 [00:02<00:00,  3.77it/s]"
     ]
    },
    {
     "name": "stdout",
     "output_type": "stream",
     "text": [
      "Train Loss: 5.4293\n"
     ]
    },
    {
     "name": "stderr",
     "output_type": "stream",
     "text": [
      "Epoch 9/10: 100%|██████████| 10/10 [00:02<00:00,  3.74it/s]\n"
     ]
    },
    {
     "name": "stdout",
     "output_type": "stream",
     "text": [
      "Train Loss: 5.5429\n"
     ]
    },
    {
     "name": "stderr",
     "output_type": "stream",
     "text": [
      "Epoch 10/10:  10%|█         | 1/10 [00:00<00:02,  3.79it/s]"
     ]
    },
    {
     "name": "stdout",
     "output_type": "stream",
     "text": [
      "Train Loss: 5.0000\n"
     ]
    },
    {
     "name": "stderr",
     "output_type": "stream",
     "text": [
      "Epoch 10/10:  20%|██        | 2/10 [00:00<00:02,  3.87it/s]"
     ]
    },
    {
     "name": "stdout",
     "output_type": "stream",
     "text": [
      "Train Loss: 5.5000\n"
     ]
    },
    {
     "name": "stderr",
     "output_type": "stream",
     "text": [
      "Epoch 10/10:  30%|███       | 3/10 [00:00<00:01,  3.88it/s]"
     ]
    },
    {
     "name": "stdout",
     "output_type": "stream",
     "text": [
      "Train Loss: 6.8000\n"
     ]
    },
    {
     "name": "stderr",
     "output_type": "stream",
     "text": [
      "Epoch 10/10:  40%|████      | 4/10 [00:01<00:01,  3.99it/s]"
     ]
    },
    {
     "name": "stdout",
     "output_type": "stream",
     "text": [
      "Train Loss: 8.1800\n"
     ]
    },
    {
     "name": "stderr",
     "output_type": "stream",
     "text": [
      "Epoch 10/10:  50%|█████     | 5/10 [00:01<00:01,  3.96it/s]"
     ]
    },
    {
     "name": "stdout",
     "output_type": "stream",
     "text": [
      "Train Loss: 4.5680\n"
     ]
    },
    {
     "name": "stderr",
     "output_type": "stream",
     "text": [
      "Epoch 10/10:  60%|██████    | 6/10 [00:01<00:01,  3.69it/s]"
     ]
    },
    {
     "name": "stdout",
     "output_type": "stream",
     "text": [
      "Train Loss: 2.9568\n"
     ]
    },
    {
     "name": "stderr",
     "output_type": "stream",
     "text": [
      "Epoch 10/10:  70%|███████   | 7/10 [00:01<00:00,  3.65it/s]"
     ]
    },
    {
     "name": "stdout",
     "output_type": "stream",
     "text": [
      "Train Loss: 2.7957\n"
     ]
    },
    {
     "name": "stderr",
     "output_type": "stream",
     "text": [
      "Epoch 10/10:  80%|████████  | 8/10 [00:02<00:00,  3.60it/s]"
     ]
    },
    {
     "name": "stdout",
     "output_type": "stream",
     "text": [
      "Train Loss: 2.7796\n"
     ]
    },
    {
     "name": "stderr",
     "output_type": "stream",
     "text": [
      "Epoch 10/10:  90%|█████████ | 9/10 [00:02<00:00,  3.76it/s]"
     ]
    },
    {
     "name": "stdout",
     "output_type": "stream",
     "text": [
      "Train Loss: 6.5280\n"
     ]
    },
    {
     "name": "stderr",
     "output_type": "stream",
     "text": [
      "Epoch 10/10: 100%|██████████| 10/10 [00:02<00:00,  3.79it/s]"
     ]
    },
    {
     "name": "stdout",
     "output_type": "stream",
     "text": [
      "Train Loss: 3.1528\n"
     ]
    },
    {
     "name": "stderr",
     "output_type": "stream",
     "text": [
      "\n"
     ]
    }
   ],
   "source": [
    "\n",
    "train_dataloader = DataLoader(train_dataset, batch_size=8, shuffle=True)\n",
    "\n",
    "model = ConcatArch(hidden_size=128, num_classes=1).to(GLOBAL_DEVICE)\n",
    "\n",
    "optim = hf.AdamW(model.parameters(), lr=0.001)\n",
    "loss_fn = nn.BCELoss()\n",
    "scaler = torch.cuda.amp.GradScaler(enabled=True)\n",
    "\n",
    "epochs = 10\n",
    "\n",
    "for epoch in range(epochs):\n",
    "    model.train()\n",
    "    train_loss = 0.0\n",
    "    for image, caption, label in tqdm(train_dataloader, desc=f'Epoch {epoch + 1}/{epochs}'):\n",
    "        optim.zero_grad()\n",
    "        \n",
    "        train_tokens = bert_tokeniser.batch_encode_plus(\n",
    "            list(caption),\n",
    "            padding='max_length',\n",
    "            max_length=max_length,\n",
    "            truncation=True\n",
    "        )\n",
    "\n",
    "        train_seq = torch.tensor(train_tokens['input_ids'], device=GLOBAL_DEVICE)\n",
    "        train_mask = torch.tensor(train_tokens['attention_mask'], device=GLOBAL_DEVICE)\n",
    "\n",
    "        label = label.to(device=GLOBAL_DEVICE, dtype=torch.float32)\n",
    "\n",
    "        with torch.cuda.amp.autocast(enabled=True):\n",
    "            _, cls_caption = bert_model(train_seq, attention_mask=train_mask, return_dict=False)\n",
    "            _, embeddings = vit(image)\n",
    "            cls_img = embeddings[:, 0, :]\n",
    "            cls = torch.cat([cls_caption, cls_img], dim=1)\n",
    "            output = model(cls)\n",
    "        \n",
    "        loss = loss_fn(output, label.unsqueeze(dim=1))\n",
    "        loss.backward()\n",
    "        optim.step()\n",
    "        train_loss += loss.item()\n",
    "\n",
    "        train_loss /= len(train_dataloader)\n",
    "\n",
    "        print(f'Train Loss: {train_loss:.4f}')\n",
    "        torch.cuda.empty_cache()"
   ]
  },
  {
   "cell_type": "code",
   "execution_count": null,
   "metadata": {},
   "outputs": [],
   "source": []
  }
 ],
 "metadata": {
  "kernelspec": {
   "display_name": "Python 3",
   "language": "python",
   "name": "python3"
  },
  "language_info": {
   "codemirror_mode": {
    "name": "ipython",
    "version": 3
   },
   "file_extension": ".py",
   "mimetype": "text/x-python",
   "name": "python",
   "nbconvert_exporter": "python",
   "pygments_lexer": "ipython3",
   "version": "3.11.7"
  }
 },
 "nbformat": 4,
 "nbformat_minor": 2
}
